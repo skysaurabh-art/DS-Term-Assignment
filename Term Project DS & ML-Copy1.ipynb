{
 "cells": [
  {
   "cell_type": "markdown",
   "metadata": {},
   "source": [
    "<h1><center>Assignment 1</center></h1>\n",
    "<h1><center>Class: AML 1104_2</center></h1>\n",
    "<h1><center>Data Science and Machine Learning in Canada</center></h1><br><br><br><br><br><br><br><br><br>\n",
    "<h1><center>Instructor: Mohammad Islam</center></h1>\n",
    "<h1><center>Submitted By</center></h1>\n",
    "<h1><center>Camilo Espitia (C0785089)</center>\n",
    "<h1><center>Deval Arora (C0787539)</center>\n",
    "<h1><center>Jonatus Aguiar (C0790419)</center>\n",
    "<h1><center>Saurabh Deswal (C0787134)</center><br><br><br><br><br><br>\n",
    "<h1><center>Lambton College In Toronto</center></h1>\n",
    "<h1><center>17 December 2020</center></h1>"
   ]
  },
  {
   "cell_type": "markdown",
   "metadata": {},
   "source": [
    "### Aim: Conduct an exploratory data analysis of UCI Machine Learning data set. Use supervised and unsupervised methods. "
   ]
  },
  {
   "cell_type": "markdown",
   "metadata": {},
   "source": [
    "* **Data preprocessing:**\n",
    "    1. Load the data set into a data frame\n",
    "    2. Are there any missing values in the dataset? How to handle that.\n",
    "    3. Use feature selection and pruning techniques."
   ]
  },
  {
   "cell_type": "markdown",
   "metadata": {},
   "source": [
    "* **Data visualization:**\n",
    "    1. Use Data visualization techniques to plot in graphs.\n",
    "    2. Use a measure of central tendency for each feature.\n",
    "    3. Show the dispersion (standard deviation and IQR) of features."
   ]
  },
  {
   "cell_type": "markdown",
   "metadata": {},
   "source": [
    "* **Supervised learning:**\n",
    "    1. Explore random split of data as test and training set using Python.\n",
    "    2. Use the training data set to train the classification model.\n",
    "    3. Observe the performance of the model with test data set.\n",
    "    4. Create a confusion matrix to present the result."
   ]
  },
  {
   "cell_type": "markdown",
   "metadata": {},
   "source": [
    "* **Unsupervised learning:**\n",
    "    1. Use K-means algorithm to find out cluster from the data set.\n",
    "    2. Try different number of clusters to compare the results."
   ]
  },
  {
   "cell_type": "markdown",
   "metadata": {},
   "source": [
    "## Data Loading & Inspection"
   ]
  },
  {
   "cell_type": "markdown",
   "metadata": {},
   "source": [
    "**Context**\n",
    "\n",
    "This database contains 76 attributes, but all published experiments refer to using a subset of 14 of them. In particular, the Cleveland database is the only one that has been used by ML researchers to\n",
    "this date. The \"goal\" field refers to the presence of heart disease in the patient. It is integer valued from 0 (no presence) to 4.\n",
    "\n",
    "---\n",
    "\n",
    "\n",
    "\n",
    "**Content**\n",
    "\n",
    "Attribute Information:\n",
    "\n",
    "1. age\n",
    "2. sex (0 - female, 1 - male)\n",
    "3. chest pain type (4 values)\n",
    "4. resting blood pressure\n",
    "5. serum cholestoral in mg/dl\n",
    "6. fasting blood sugar > 120 mg/dl\n",
    "7. resting electrocardiographic results (values 0,1,2)\n",
    "8. maximum heart rate achieved\n",
    "9. exercise induced angina\n",
    "10. oldpeak = ST depression induced by exercise relative to rest\n",
    "11. the slope of the peak exercise ST segment\n",
    "12. number of major vessels (0-3) colored by flourosopy\n",
    "13. thal: 3 = normal; 6 = fixed defect; 7 = reversable defect\n",
    "14. target variable (0 - 4, we will be treating as severity of heart disease)"
   ]
  },
  {
   "cell_type": "markdown",
   "metadata": {},
   "source": [
    "### Part 1: Data Preprocessing [saurabh]"
   ]
  },
  {
   "cell_type": "code",
   "execution_count": 166,
   "metadata": {},
   "outputs": [],
   "source": [
    "#import required libraries\n",
    "import warnings\n",
    "import numpy as np\n",
    "import pandas as pd\n",
    "import seaborn as sns\n",
    "from matplotlib import pyplot as plt\n",
    "\n",
    "from sklearn.svm import SVC\n",
    "from sklearn.metrics import roc_auc_score\n",
    "from imblearn.over_sampling import RandomOverSampler\n",
    "from sklearn.linear_model import LogisticRegression\n",
    "from sklearn.ensemble import RandomForestClassifier\n",
    "from sklearn.model_selection import train_test_split, cross_val_score, RandomizedSearchCV\n",
    "from sklearn.metrics import accuracy_score, classification_report, roc_auc_score, multilabel_confusion_matrix\n",
    "\n",
    "sns.set()   # Set the style for graphs\n",
    "warnings.filterwarnings('ignore')   # Ignore all warnings\n",
    "\n",
    "%matplotlib inline"
   ]
  },
  {
   "cell_type": "code",
   "execution_count": 168,
   "metadata": {},
   "outputs": [],
   "source": [
    "#Loading the dataset using pandas\n",
    "df = pd.read_csv('cleveland_copy.csv', header=None)"
   ]
  },
  {
   "cell_type": "code",
   "execution_count": 169,
   "metadata": {},
   "outputs": [],
   "source": [
    "#Adding Column names to our pandas dataframe\n",
    "df.columns = ['age', 'sex', 'chestpain', 'restbps', 'chol', 'fbs', 'restecg', \n",
    "                'thalach', 'exang', 'oldpeak', 'slope', 'ca','thal', 'target']"
   ]
  },
  {
   "cell_type": "code",
   "execution_count": 173,
   "metadata": {},
   "outputs": [
    {
     "name": "stdout",
     "output_type": "stream",
     "text": [
      "<class 'pandas.core.frame.DataFrame'>\n",
      "RangeIndex: 303 entries, 0 to 302\n",
      "Data columns (total 14 columns):\n",
      " #   Column     Non-Null Count  Dtype  \n",
      "---  ------     --------------  -----  \n",
      " 0   age        303 non-null    int64  \n",
      " 1   sex        303 non-null    int64  \n",
      " 2   chestpain  303 non-null    int64  \n",
      " 3   restbps    303 non-null    int64  \n",
      " 4   chol       303 non-null    int64  \n",
      " 5   fbs        303 non-null    int64  \n",
      " 6   restecg    303 non-null    int64  \n",
      " 7   thalach    303 non-null    int64  \n",
      " 8   exang      303 non-null    int64  \n",
      " 9   oldpeak    303 non-null    float64\n",
      " 10  slope      303 non-null    int64  \n",
      " 11  ca         299 non-null    float64\n",
      " 12  thal       301 non-null    float64\n",
      " 13  target     303 non-null    int64  \n",
      "dtypes: float64(3), int64(11)\n",
      "memory usage: 33.3 KB\n"
     ]
    }
   ],
   "source": [
    "#provides the information about the dataset\n",
    "df.info()"
   ]
  },
  {
   "cell_type": "code",
   "execution_count": 174,
   "metadata": {},
   "outputs": [
    {
     "data": {
      "text/html": [
       "<div>\n",
       "<style scoped>\n",
       "    .dataframe tbody tr th:only-of-type {\n",
       "        vertical-align: middle;\n",
       "    }\n",
       "\n",
       "    .dataframe tbody tr th {\n",
       "        vertical-align: top;\n",
       "    }\n",
       "\n",
       "    .dataframe thead th {\n",
       "        text-align: right;\n",
       "    }\n",
       "</style>\n",
       "<table border=\"1\" class=\"dataframe\">\n",
       "  <thead>\n",
       "    <tr style=\"text-align: right;\">\n",
       "      <th></th>\n",
       "      <th>age</th>\n",
       "      <th>sex</th>\n",
       "      <th>chestpain</th>\n",
       "      <th>restbps</th>\n",
       "      <th>chol</th>\n",
       "      <th>fbs</th>\n",
       "      <th>restecg</th>\n",
       "      <th>thalach</th>\n",
       "      <th>exang</th>\n",
       "      <th>oldpeak</th>\n",
       "      <th>slope</th>\n",
       "      <th>ca</th>\n",
       "      <th>thal</th>\n",
       "      <th>target</th>\n",
       "    </tr>\n",
       "  </thead>\n",
       "  <tbody>\n",
       "    <tr>\n",
       "      <th>0</th>\n",
       "      <td>63</td>\n",
       "      <td>1</td>\n",
       "      <td>1</td>\n",
       "      <td>145</td>\n",
       "      <td>233</td>\n",
       "      <td>1</td>\n",
       "      <td>2</td>\n",
       "      <td>150</td>\n",
       "      <td>0</td>\n",
       "      <td>2.3</td>\n",
       "      <td>3</td>\n",
       "      <td>0.0</td>\n",
       "      <td>6.0</td>\n",
       "      <td>0</td>\n",
       "    </tr>\n",
       "    <tr>\n",
       "      <th>1</th>\n",
       "      <td>67</td>\n",
       "      <td>1</td>\n",
       "      <td>4</td>\n",
       "      <td>160</td>\n",
       "      <td>286</td>\n",
       "      <td>0</td>\n",
       "      <td>2</td>\n",
       "      <td>108</td>\n",
       "      <td>1</td>\n",
       "      <td>1.5</td>\n",
       "      <td>2</td>\n",
       "      <td>3.0</td>\n",
       "      <td>3.0</td>\n",
       "      <td>2</td>\n",
       "    </tr>\n",
       "    <tr>\n",
       "      <th>2</th>\n",
       "      <td>67</td>\n",
       "      <td>1</td>\n",
       "      <td>4</td>\n",
       "      <td>120</td>\n",
       "      <td>229</td>\n",
       "      <td>0</td>\n",
       "      <td>2</td>\n",
       "      <td>129</td>\n",
       "      <td>1</td>\n",
       "      <td>2.6</td>\n",
       "      <td>2</td>\n",
       "      <td>2.0</td>\n",
       "      <td>7.0</td>\n",
       "      <td>1</td>\n",
       "    </tr>\n",
       "    <tr>\n",
       "      <th>3</th>\n",
       "      <td>37</td>\n",
       "      <td>1</td>\n",
       "      <td>3</td>\n",
       "      <td>130</td>\n",
       "      <td>250</td>\n",
       "      <td>0</td>\n",
       "      <td>0</td>\n",
       "      <td>187</td>\n",
       "      <td>0</td>\n",
       "      <td>3.5</td>\n",
       "      <td>3</td>\n",
       "      <td>0.0</td>\n",
       "      <td>3.0</td>\n",
       "      <td>0</td>\n",
       "    </tr>\n",
       "    <tr>\n",
       "      <th>4</th>\n",
       "      <td>41</td>\n",
       "      <td>0</td>\n",
       "      <td>2</td>\n",
       "      <td>130</td>\n",
       "      <td>204</td>\n",
       "      <td>0</td>\n",
       "      <td>2</td>\n",
       "      <td>172</td>\n",
       "      <td>0</td>\n",
       "      <td>1.4</td>\n",
       "      <td>1</td>\n",
       "      <td>0.0</td>\n",
       "      <td>3.0</td>\n",
       "      <td>0</td>\n",
       "    </tr>\n",
       "  </tbody>\n",
       "</table>\n",
       "</div>"
      ],
      "text/plain": [
       "   age  sex  chestpain  restbps  chol  fbs  restecg  thalach  exang  oldpeak  \\\n",
       "0   63    1          1      145   233    1        2      150      0      2.3   \n",
       "1   67    1          4      160   286    0        2      108      1      1.5   \n",
       "2   67    1          4      120   229    0        2      129      1      2.6   \n",
       "3   37    1          3      130   250    0        0      187      0      3.5   \n",
       "4   41    0          2      130   204    0        2      172      0      1.4   \n",
       "\n",
       "   slope   ca  thal  target  \n",
       "0      3  0.0   6.0       0  \n",
       "1      2  3.0   3.0       2  \n",
       "2      2  2.0   7.0       1  \n",
       "3      3  0.0   3.0       0  \n",
       "4      1  0.0   3.0       0  "
      ]
     },
     "execution_count": 174,
     "metadata": {},
     "output_type": "execute_result"
    }
   ],
   "source": [
    "#Returns top 5 rows of our dataset\n",
    "df.head(5)"
   ]
  },
  {
   "cell_type": "code",
   "execution_count": 175,
   "metadata": {},
   "outputs": [
    {
     "data": {
      "text/html": [
       "<div>\n",
       "<style scoped>\n",
       "    .dataframe tbody tr th:only-of-type {\n",
       "        vertical-align: middle;\n",
       "    }\n",
       "\n",
       "    .dataframe tbody tr th {\n",
       "        vertical-align: top;\n",
       "    }\n",
       "\n",
       "    .dataframe thead th {\n",
       "        text-align: right;\n",
       "    }\n",
       "</style>\n",
       "<table border=\"1\" class=\"dataframe\">\n",
       "  <thead>\n",
       "    <tr style=\"text-align: right;\">\n",
       "      <th></th>\n",
       "      <th>count</th>\n",
       "      <th>mean</th>\n",
       "      <th>std</th>\n",
       "      <th>min</th>\n",
       "      <th>25%</th>\n",
       "      <th>50%</th>\n",
       "      <th>75%</th>\n",
       "      <th>max</th>\n",
       "    </tr>\n",
       "  </thead>\n",
       "  <tbody>\n",
       "    <tr>\n",
       "      <th>age</th>\n",
       "      <td>303.0</td>\n",
       "      <td>54.438944</td>\n",
       "      <td>9.038662</td>\n",
       "      <td>29.0</td>\n",
       "      <td>48.0</td>\n",
       "      <td>56.0</td>\n",
       "      <td>61.0</td>\n",
       "      <td>77.0</td>\n",
       "    </tr>\n",
       "    <tr>\n",
       "      <th>sex</th>\n",
       "      <td>303.0</td>\n",
       "      <td>0.679868</td>\n",
       "      <td>0.467299</td>\n",
       "      <td>0.0</td>\n",
       "      <td>0.0</td>\n",
       "      <td>1.0</td>\n",
       "      <td>1.0</td>\n",
       "      <td>1.0</td>\n",
       "    </tr>\n",
       "    <tr>\n",
       "      <th>chestpain</th>\n",
       "      <td>303.0</td>\n",
       "      <td>3.158416</td>\n",
       "      <td>0.960126</td>\n",
       "      <td>1.0</td>\n",
       "      <td>3.0</td>\n",
       "      <td>3.0</td>\n",
       "      <td>4.0</td>\n",
       "      <td>4.0</td>\n",
       "    </tr>\n",
       "    <tr>\n",
       "      <th>restbps</th>\n",
       "      <td>303.0</td>\n",
       "      <td>131.689769</td>\n",
       "      <td>17.599748</td>\n",
       "      <td>94.0</td>\n",
       "      <td>120.0</td>\n",
       "      <td>130.0</td>\n",
       "      <td>140.0</td>\n",
       "      <td>200.0</td>\n",
       "    </tr>\n",
       "    <tr>\n",
       "      <th>chol</th>\n",
       "      <td>303.0</td>\n",
       "      <td>246.693069</td>\n",
       "      <td>51.776918</td>\n",
       "      <td>126.0</td>\n",
       "      <td>211.0</td>\n",
       "      <td>241.0</td>\n",
       "      <td>275.0</td>\n",
       "      <td>564.0</td>\n",
       "    </tr>\n",
       "    <tr>\n",
       "      <th>fbs</th>\n",
       "      <td>303.0</td>\n",
       "      <td>0.148515</td>\n",
       "      <td>0.356198</td>\n",
       "      <td>0.0</td>\n",
       "      <td>0.0</td>\n",
       "      <td>0.0</td>\n",
       "      <td>0.0</td>\n",
       "      <td>1.0</td>\n",
       "    </tr>\n",
       "    <tr>\n",
       "      <th>restecg</th>\n",
       "      <td>303.0</td>\n",
       "      <td>0.990099</td>\n",
       "      <td>0.994971</td>\n",
       "      <td>0.0</td>\n",
       "      <td>0.0</td>\n",
       "      <td>1.0</td>\n",
       "      <td>2.0</td>\n",
       "      <td>2.0</td>\n",
       "    </tr>\n",
       "    <tr>\n",
       "      <th>thalach</th>\n",
       "      <td>303.0</td>\n",
       "      <td>149.607261</td>\n",
       "      <td>22.875003</td>\n",
       "      <td>71.0</td>\n",
       "      <td>133.5</td>\n",
       "      <td>153.0</td>\n",
       "      <td>166.0</td>\n",
       "      <td>202.0</td>\n",
       "    </tr>\n",
       "    <tr>\n",
       "      <th>exang</th>\n",
       "      <td>303.0</td>\n",
       "      <td>0.326733</td>\n",
       "      <td>0.469794</td>\n",
       "      <td>0.0</td>\n",
       "      <td>0.0</td>\n",
       "      <td>0.0</td>\n",
       "      <td>1.0</td>\n",
       "      <td>1.0</td>\n",
       "    </tr>\n",
       "    <tr>\n",
       "      <th>oldpeak</th>\n",
       "      <td>303.0</td>\n",
       "      <td>1.039604</td>\n",
       "      <td>1.161075</td>\n",
       "      <td>0.0</td>\n",
       "      <td>0.0</td>\n",
       "      <td>0.8</td>\n",
       "      <td>1.6</td>\n",
       "      <td>6.2</td>\n",
       "    </tr>\n",
       "    <tr>\n",
       "      <th>slope</th>\n",
       "      <td>303.0</td>\n",
       "      <td>1.600660</td>\n",
       "      <td>0.616226</td>\n",
       "      <td>1.0</td>\n",
       "      <td>1.0</td>\n",
       "      <td>2.0</td>\n",
       "      <td>2.0</td>\n",
       "      <td>3.0</td>\n",
       "    </tr>\n",
       "    <tr>\n",
       "      <th>ca</th>\n",
       "      <td>299.0</td>\n",
       "      <td>0.672241</td>\n",
       "      <td>0.937438</td>\n",
       "      <td>0.0</td>\n",
       "      <td>0.0</td>\n",
       "      <td>0.0</td>\n",
       "      <td>1.0</td>\n",
       "      <td>3.0</td>\n",
       "    </tr>\n",
       "    <tr>\n",
       "      <th>thal</th>\n",
       "      <td>301.0</td>\n",
       "      <td>4.734219</td>\n",
       "      <td>1.939706</td>\n",
       "      <td>3.0</td>\n",
       "      <td>3.0</td>\n",
       "      <td>3.0</td>\n",
       "      <td>7.0</td>\n",
       "      <td>7.0</td>\n",
       "    </tr>\n",
       "    <tr>\n",
       "      <th>target</th>\n",
       "      <td>303.0</td>\n",
       "      <td>0.937294</td>\n",
       "      <td>1.228536</td>\n",
       "      <td>0.0</td>\n",
       "      <td>0.0</td>\n",
       "      <td>0.0</td>\n",
       "      <td>2.0</td>\n",
       "      <td>4.0</td>\n",
       "    </tr>\n",
       "  </tbody>\n",
       "</table>\n",
       "</div>"
      ],
      "text/plain": [
       "           count        mean        std    min    25%    50%    75%    max\n",
       "age        303.0   54.438944   9.038662   29.0   48.0   56.0   61.0   77.0\n",
       "sex        303.0    0.679868   0.467299    0.0    0.0    1.0    1.0    1.0\n",
       "chestpain  303.0    3.158416   0.960126    1.0    3.0    3.0    4.0    4.0\n",
       "restbps    303.0  131.689769  17.599748   94.0  120.0  130.0  140.0  200.0\n",
       "chol       303.0  246.693069  51.776918  126.0  211.0  241.0  275.0  564.0\n",
       "fbs        303.0    0.148515   0.356198    0.0    0.0    0.0    0.0    1.0\n",
       "restecg    303.0    0.990099   0.994971    0.0    0.0    1.0    2.0    2.0\n",
       "thalach    303.0  149.607261  22.875003   71.0  133.5  153.0  166.0  202.0\n",
       "exang      303.0    0.326733   0.469794    0.0    0.0    0.0    1.0    1.0\n",
       "oldpeak    303.0    1.039604   1.161075    0.0    0.0    0.8    1.6    6.2\n",
       "slope      303.0    1.600660   0.616226    1.0    1.0    2.0    2.0    3.0\n",
       "ca         299.0    0.672241   0.937438    0.0    0.0    0.0    1.0    3.0\n",
       "thal       301.0    4.734219   1.939706    3.0    3.0    3.0    7.0    7.0\n",
       "target     303.0    0.937294   1.228536    0.0    0.0    0.0    2.0    4.0"
      ]
     },
     "execution_count": 175,
     "metadata": {},
     "output_type": "execute_result"
    }
   ],
   "source": [
    "#provides deatils description of our dataset\n",
    "df.describe().T   # 'T' is for transpose"
   ]
  },
  {
   "cell_type": "markdown",
   "metadata": {},
   "source": [
    "# Data Cleaning\n",
    "#### Now we will start with cleaning our dataset"
   ]
  },
  {
   "cell_type": "code",
   "execution_count": 177,
   "metadata": {},
   "outputs": [
    {
     "data": {
      "text/plain": [
       "age          0\n",
       "sex          0\n",
       "chestpain    0\n",
       "restbps      0\n",
       "chol         0\n",
       "fbs          0\n",
       "restecg      0\n",
       "thalach      0\n",
       "exang        0\n",
       "oldpeak      0\n",
       "slope        0\n",
       "ca           4\n",
       "thal         2\n",
       "target       0\n",
       "dtype: int64"
      ]
     },
     "execution_count": 177,
     "metadata": {},
     "output_type": "execute_result"
    }
   ],
   "source": [
    "#Checks if there are any null values present in any column of the dataframe\n",
    "#column ca and thal have null values\n",
    "df.isnull().sum()"
   ]
  },
  {
   "cell_type": "code",
   "execution_count": 182,
   "metadata": {},
   "outputs": [],
   "source": [
    "#Create a function to create new columns ca_median and ca_random\n",
    "#ca_median will contain NaN values replaced by the median of ca\n",
    "#ca_random will contain NaN values replaced by a random value of ca selected  from the ca column\n",
    "#The above two techniques are called Median replacement and Random Sample Imputation respectively\n",
    "\n",
    "def impute_nan(df,variable,median):\n",
    "    df[variable+\"_median\"]=df[variable].fillna(median)\n",
    "    df[variable+\"_random\"]=df[variable]\n",
    "    \n",
    "    #find the random value of ca column, keep the random_state fixed so the value remains same in each iteration\n",
    "    random_sample=df[variable].dropna().sample(df[variable].isnull().sum(),random_state=42)\n",
    "    \n",
    "    ##pandas need to have same index in order to merge the dataset\n",
    "    random_sample.index=df[df[variable].isnull()].index\n",
    "    df.loc[df[variable].isnull(),variable+'_random']=random_sample\n",
    "\n",
    "#Calculate the median of ca\n",
    "median=df.ca.median()\n",
    "impute_nan(df,\"ca\",median)"
   ]
  },
  {
   "cell_type": "code",
   "execution_count": 184,
   "metadata": {},
   "outputs": [
    {
     "name": "stdout",
     "output_type": "stream",
     "text": [
      "0.9374383177242157\n",
      "0.9361281845819289\n",
      "0.934375462234503\n"
     ]
    }
   ],
   "source": [
    "#Take a look at Standart deviation of ca, ca_median and ca_random. \n",
    "#The Standart deviation of ca and ca_random are closest, so we will choose ca_random instead of ca_median\n",
    "\n",
    "print(df['ca'].std())\n",
    "print(df['ca_random'].std())\n",
    "print(df['ca_median'].std())"
   ]
  },
  {
   "cell_type": "code",
   "execution_count": 191,
   "metadata": {},
   "outputs": [
    {
     "data": {
      "text/plain": [
       "<matplotlib.legend.Legend at 0xe6e25f6280>"
      ]
     },
     "execution_count": 191,
     "metadata": {},
     "output_type": "execute_result"
    },
    {
     "data": {
      "image/png": "[encoded data removed]",
      "text/plain": [
       "<Figure size 864x432 with 1 Axes>"
      ]
     },
     "metadata": {
      "needs_background": "light"
     },
     "output_type": "display_data"
    }
   ],
   "source": [
    "#Plot the KDE curve for ca, ca_random and ca_median\n",
    "#The curve for ca and ca_random are closest, so we can say ca_random has filled the missing values perfectly\n",
    "\n",
    "fig = plt.figure()\n",
    "ax = fig.add_subplot(111)\n",
    "fig.set_size_inches(12, 6)\n",
    "df.ca.plot(kind='kde', ax=ax,color='black')\n",
    "df.ca_median.plot(kind='kde', ax=ax, color='red')\n",
    "df.ca_random.plot(kind='kde', ax=ax, color='green')\n",
    "lines, labels = ax.get_legend_handles_labels()\n",
    "ax.legend(lines, labels, loc='best')"
   ]
  },
  {
   "cell_type": "code",
   "execution_count": 192,
   "metadata": {},
   "outputs": [
    {
     "data": {
      "text/plain": [
       "age          0\n",
       "sex          0\n",
       "chestpain    0\n",
       "restbps      0\n",
       "chol         0\n",
       "fbs          0\n",
       "restecg      0\n",
       "thalach      0\n",
       "exang        0\n",
       "oldpeak      0\n",
       "slope        0\n",
       "ca           4\n",
       "thal         2\n",
       "target       0\n",
       "ca_median    0\n",
       "ca_random    0\n",
       "dtype: int64"
      ]
     },
     "execution_count": 192,
     "metadata": {},
     "output_type": "execute_result"
    }
   ],
   "source": [
    "df.isnull().sum()"
   ]
  },
  {
   "cell_type": "code",
   "execution_count": 193,
   "metadata": {},
   "outputs": [],
   "source": [
    "#As thal have only two missing values, we can drop it\n",
    "df = df[df['thal'].notna()]"
   ]
  },
  {
   "cell_type": "code",
   "execution_count": 194,
   "metadata": {},
   "outputs": [
    {
     "data": {
      "text/plain": [
       "age          0\n",
       "sex          0\n",
       "chestpain    0\n",
       "restbps      0\n",
       "chol         0\n",
       "fbs          0\n",
       "restecg      0\n",
       "thalach      0\n",
       "exang        0\n",
       "oldpeak      0\n",
       "slope        0\n",
       "ca           4\n",
       "thal         0\n",
       "target       0\n",
       "ca_median    0\n",
       "ca_random    0\n",
       "dtype: int64"
      ]
     },
     "execution_count": 194,
     "metadata": {},
     "output_type": "execute_result"
    }
   ],
   "source": [
    "df.isnull().sum()"
   ]
  },
  {
   "cell_type": "code",
   "execution_count": 195,
   "metadata": {},
   "outputs": [],
   "source": [
    "#dropping the ca and ca_median column as we have created a new feature ca_random\n",
    "df.drop(['ca_median'], axis=1,inplace=True)\n",
    "df.drop(['ca'], axis=1,inplace=True)"
   ]
  },
  {
   "cell_type": "code",
   "execution_count": 197,
   "metadata": {},
   "outputs": [
    {
     "name": "stdout",
     "output_type": "stream",
     "text": [
      "<class 'pandas.core.frame.DataFrame'>\n",
      "Int64Index: 301 entries, 0 to 302\n",
      "Data columns (total 14 columns):\n",
      " #   Column     Non-Null Count  Dtype  \n",
      "---  ------     --------------  -----  \n",
      " 0   age        301 non-null    int64  \n",
      " 1   sex        301 non-null    int64  \n",
      " 2   chestpain  301 non-null    int64  \n",
      " 3   restbps    301 non-null    int64  \n",
      " 4   chol       301 non-null    int64  \n",
      " 5   fbs        301 non-null    int64  \n",
      " 6   restecg    301 non-null    int64  \n",
      " 7   thalach    301 non-null    int64  \n",
      " 8   exang      301 non-null    int64  \n",
      " 9   oldpeak    301 non-null    float64\n",
      " 10  slope      301 non-null    int64  \n",
      " 11  thal       301 non-null    float64\n",
      " 12  target     301 non-null    int64  \n",
      " 13  ca_random  301 non-null    float64\n",
      "dtypes: float64(3), int64(11)\n",
      "memory usage: 35.3 KB\n"
     ]
    }
   ],
   "source": [
    "#Now we can see we donot have any missing values\n",
    "df.info()"
   ]
  },
  {
   "cell_type": "markdown",
   "metadata": {},
   "source": [
    "# Feature Selection\n",
    "#### Before proceeding further, we will first find out the features that are important for our dataset\n",
    "#### Here we will do feature selection using two simple methods\n",
    "#### 1. Detecting Variance Threshold\n",
    "#### 2. Using ExtraTreesClassifier\n"
   ]
  },
  {
   "cell_type": "code",
   "execution_count": 198,
   "metadata": {},
   "outputs": [],
   "source": [
    "#Splitting the dataset into dependent and non-dependent feature before doing feature selection, to avoid overfitting at later stage\n",
    "#Remember, we will be using X just for our analysis, i.e. feature selection and outlier detection\n",
    "X, y = df.drop(['target'], axis=1), df.target"
   ]
  },
  {
   "cell_type": "code",
   "execution_count": 199,
   "metadata": {},
   "outputs": [
    {
     "name": "stdout",
     "output_type": "stream",
     "text": [
      "['fbs']\n"
     ]
    }
   ],
   "source": [
    "#Feature Selection: Method 1\n",
    "#In variance threshold method, we remove the features having 0 variance as they do not contribute anything to model\n",
    "#Importing the VarianceThreshold library from sklearn and fitting it to our dataset\n",
    "#We found that there are two features having low variance, therefore they add least value to our dataset\n",
    "from sklearn.feature_selection import VarianceThreshold\n",
    "var_thres=VarianceThreshold(threshold=0.2)\n",
    "var_thres.fit(X)\n",
    "\n",
    "var_thres.get_support()\n",
    "X.columns[var_thres.get_support()]\n",
    "\n",
    "#constant_columns will contain all the columns with 0 variance\n",
    "constant_columns = [column for column in X.columns\n",
    "                    if column not in X.columns[var_thres.get_support()]]\n",
    "\n",
    "print((constant_columns))"
   ]
  },
  {
   "cell_type": "code",
   "execution_count": 200,
   "metadata": {},
   "outputs": [
    {
     "name": "stdout",
     "output_type": "stream",
     "text": [
      "thalach      0.112295\n",
      "ca_random    0.111578\n",
      "thal         0.101814\n",
      "oldpeak      0.098065\n",
      "chol         0.095921\n",
      "age          0.095602\n",
      "restbps      0.092023\n",
      "chestpain    0.071610\n",
      "exang        0.057808\n",
      "slope        0.054645\n",
      "restecg      0.044327\n",
      "sex          0.037784\n",
      "fbs          0.026528\n",
      "dtype: float64\n"
     ]
    },
    {
     "data": {
      "image/png": "[encoded data removed]",
      "text/plain": [
       "<Figure size 1080x432 with 1 Axes>"
      ]
     },
     "metadata": {},
     "output_type": "display_data"
    }
   ],
   "source": [
    "#Feature Selection: Method 2\n",
    "#Now, we will use extratrees classisfier to find the feature importance\n",
    "#We are plottinh a horizontal bar graph to visualize which features are important\n",
    "plt.rcParams['figure.figsize']=15,6 \n",
    "sns.set_style(\"darkgrid\")\n",
    "\n",
    "from sklearn.ensemble import ExtraTreesClassifier\n",
    "import matplotlib.pyplot as plt\n",
    "model = ExtraTreesClassifier(random_state=0)\n",
    "model.fit(X,y)\n",
    "\n",
    "#We have sorted the values in descenting order\n",
    "#since the value have rapidly decreased after exang, we will ignore features after exang\n",
    "feat_importances = pd.Series(model.feature_importances_, index=X.columns)\n",
    "print(feat_importances.sort_values(axis=0,ascending=False))\n",
    "feat_importances.nlargest(12).plot(kind='barh')\n",
    "plt.show()"
   ]
  },
  {
   "cell_type": "code",
   "execution_count": 201,
   "metadata": {},
   "outputs": [],
   "source": [
    "#Selecting only the features, selected by ExtraTreesClassifier\n",
    "X=X[['thalach','oldpeak','ca_random','thal','chol','age','restbps','chestpain']]"
   ]
  },
  {
   "cell_type": "markdown",
   "metadata": {},
   "source": [
    "# Detecting Outliers\n",
    "#### After selecting the important features, we need to search for outliers in our data\n",
    "#### Here we will calculate z-score to detect the outliers"
   ]
  },
  {
   "cell_type": "code",
   "execution_count": 202,
   "metadata": {},
   "outputs": [],
   "source": [
    "#Here, we are converting the values of the dataset of every column to a list\n",
    "#This is done to pass the values to the function we are using to calculate the z-score\n",
    "\n",
    "thalach_values=list(X['thalach'])\n",
    "oldpeak_values=list(X['oldpeak'])\n",
    "ca_random_values=list(X['ca_random'])\n",
    "chol_values=list(X['chol'])\n",
    "age_values=list(X['age'])\n",
    "restbps_values=list(X['restbps'])\n",
    "chestpain_values=list(X['chestpain'])\n",
    "thal_values=list(X['thal'])\n"
   ]
  },
  {
   "cell_type": "code",
   "execution_count": 203,
   "metadata": {},
   "outputs": [],
   "source": [
    "#This function will calculate the z-score\n",
    "#Here, we have set the threshold to 3, it means it will tell us all the values which are beyond 3rd standard deviation \n",
    "\n",
    "def detect_outliers(data):\n",
    "    outliers=[]\n",
    "    threshold=3\n",
    "    mean = np.mean(data)\n",
    "    std =np.std(data)\n",
    "    \n",
    "    \n",
    "    for i in data:\n",
    "        z_score= (i - mean)/std \n",
    "        if np.abs(z_score) > threshold:\n",
    "            outliers.append(i)\n",
    "    return outliers"
   ]
  },
  {
   "cell_type": "code",
   "execution_count": 204,
   "metadata": {},
   "outputs": [
    {
     "name": "stdout",
     "output_type": "stream",
     "text": [
      "Outlier values for thalach:  [71]\n",
      "Outlier values for oldpeak:  [6.2, 5.6]\n",
      "Outlier values for ca:  []\n",
      "Outlier values for cholestrol:  [417, 407, 564, 409]\n",
      "Outlier values for age:  []\n",
      "Outlier values for restbps:  [200, 192]\n",
      "Outlier values for chestpain:  []\n",
      "Outlier values for thal:  []\n"
     ]
    }
   ],
   "source": [
    "# For thalach, cholestrol, oldpeak and restbps the z-score shows outlier value, But this are not actually outliers. According to feature selection and \n",
    "# domain knowledge, halach, cholestrol, oldpeak and restbps contributes the most towards heart disease\n",
    "# Therefore, we will not remove any outlier from the dataset\n",
    "\n",
    "out_values_1=detect_outliers(thalach_values)\n",
    "print(\"Outlier values for thalach: \",out_values_1)\n",
    "\n",
    "# For oldpeak, we have 2 outlier values\n",
    "out_values_2=detect_outliers(oldpeak_values)\n",
    "print(\"Outlier values for oldpeak: \",out_values_2)\n",
    "\n",
    "# For ca_random, we have 3 outlier values\n",
    "out_values_3=detect_outliers(ca_random_values)\n",
    "print(\"Outlier values for ca: \",out_values_3)\n",
    "\n",
    "# For chol, we have 4 outlier values\n",
    "out_values_4=detect_outliers(chol_values)\n",
    "print(\"Outlier values for cholestrol: \",out_values_4)\n",
    "\n",
    "# For age, we have 4 outlier values\n",
    "out_values_5=detect_outliers(age_values)\n",
    "print(\"Outlier values for age: \",out_values_5)\n",
    "\n",
    "# For restbps, we have 2 outlier values\n",
    "out_values_6=detect_outliers(restbps_values)\n",
    "print(\"Outlier values for restbps: \",out_values_6)\n",
    "\n",
    "# For chestpain, we have 2 outlier values\n",
    "out_values_7=detect_outliers(chestpain_values)\n",
    "print(\"Outlier values for chestpain: \",out_values_7)\n",
    "\n",
    "# For thal, we have 2 outlier values\n",
    "out_values_8=detect_outliers(thal_values)\n",
    "print(\"Outlier values for thal: \",out_values_8)"
   ]
  },
  {
   "cell_type": "code",
   "execution_count": 205,
   "metadata": {},
   "outputs": [],
   "source": [
    "#Selecting only the features, selected by ExtraTreesClassifier from the main dataframe\n",
    "df=df[['thalach','oldpeak','ca_random','chol','age','restbps','chestpain','thal','target']]"
   ]
  },
  {
   "cell_type": "markdown",
   "metadata": {},
   "source": [
    "### Part 2: Data Visualization [jonatus]"
   ]
  },
  {
   "cell_type": "markdown",
   "metadata": {},
   "source": [
    "### Part 3: Supervised Learning [deval]"
   ]
  },
  {
   "cell_type": "markdown",
   "metadata": {},
   "source": [
    "### Part 4: Unsupervised Learning [camilo]"
   ]
  },
  {
   "cell_type": "code",
   "execution_count": null,
   "metadata": {},
   "outputs": [],
   "source": []
  }
 ],
 "metadata": {
  "kernelspec": {
   "display_name": "Python 3",
   "language": "python",
   "name": "python3"
  },
  "language_info": {
   "codemirror_mode": {
    "name": "ipython",
    "version": 3
   },
   "file_extension": ".py",
   "mimetype": "text/x-python",
   "name": "python",
   "nbconvert_exporter": "python",
   "pygments_lexer": "ipython3",
   "version": "3.8.3"
  }
 },
 "nbformat": 4,
 "nbformat_minor": 2
}
